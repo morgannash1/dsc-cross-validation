{
 "cells": [
  {
   "cell_type": "markdown",
   "metadata": {},
   "source": [
    "# Introduction to Cross-Validation"
   ]
  },
  {
   "cell_type": "markdown",
   "metadata": {},
   "source": [
    "## Introduction"
   ]
  },
  {
   "cell_type": "markdown",
   "metadata": {},
   "source": [
    "Cross-validation is another model validation strategy, which addresses one of the limitations of the train-test split strategy."
   ]
  },
  {
   "cell_type": "markdown",
   "metadata": {},
   "source": [
    "## Objectives\n",
    "\n",
    "You will be able to:\n",
    "\n",
    "* Describe the process of cross-validation\n",
    "* Perform cross-validation on a model\n",
    "* Compare and contrast model validation strategies"
   ]
  },
  {
   "cell_type": "markdown",
   "metadata": {},
   "source": [
    "## Limitations of Train-Test Split\n",
    "\n",
    "Recall that a train-test split means shuffling the data and randomly selecting a subset to be the _test_ set. The test set is a stand-in for the genuinely unknown data that the model would encounter in the real world, and helps to give a realistic picture of model performance and to identify issues like overfitting.\n",
    "\n",
    "The problem with this, as you may have already noticed, is that the metrics produced by a train-test split are **highly dependent on the particular split** that happened to be created. You might end up with an overly optimistic or overly pessimistic impression of model performance just because of which records ended up in the train vs. test sets.\n",
    "\n",
    "For example, the code below creates two different splits of the Auto MPG dataset, each with the same ratio of train to test, but using different random seeds."
   ]
  },
  {
   "cell_type": "code",
   "execution_count": 1,
   "metadata": {},
   "outputs": [
    {
     "data": {
      "image/png": "[encoded data removed]",
      "text/plain": [
       "<Figure size 1000x500 with 2 Axes>"
      ]
     },
     "metadata": {},
     "output_type": "display_data"
    }
   ],
   "source": [
    "import matplotlib.pyplot as plt\n",
    "import pandas as pd\n",
    "\n",
    "from sklearn.linear_model import LinearRegression\n",
    "from sklearn.metrics import mean_squared_error\n",
    "from sklearn.model_selection import train_test_split\n",
    "\n",
    "# Set up data and model\n",
    "data = pd.read_csv('auto-mpg.csv')\n",
    "y = data['mpg']\n",
    "X = data[['acceleration', 'horsepower', 'displacement', 'weight']]\n",
    "linreg = LinearRegression()\n",
    "\n",
    "# Split using random_state 87\n",
    "X_train_1, X_test_1, y_train_1, y_test_1 = train_test_split(X, y, random_state=87, test_size=0.33)\n",
    "linreg.fit(X_train_1, y_train_1)\n",
    "train_mse_1 = mean_squared_error(y_train_1, linreg.predict(X_train_1))\n",
    "test_mse_1 = mean_squared_error(y_test_1, linreg.predict(X_test_1))\n",
    "\n",
    "# Split using random_state 41\n",
    "X_train_2, X_test_2, y_train_2, y_test_2 = train_test_split(X, y, random_state=41, test_size=0.33)\n",
    "linreg.fit(X_train_2, y_train_2)\n",
    "train_mse_2 = mean_squared_error(y_train_2, linreg.predict(X_train_2))\n",
    "test_mse_2 = mean_squared_error(y_test_2, linreg.predict(X_test_2))\n",
    "\n",
    "# Plot metrics\n",
    "fig, (left, right) = plt.subplots(ncols=2, figsize=(10,5), sharey=True)\n",
    "labels = [\"Train\", \"Test\"]\n",
    "colors = [\"#00B3E6\", \"#FFC51B\"]\n",
    "left.bar(labels, [train_mse_1, test_mse_1], color=colors)\n",
    "left.set_title(\"Split 1\")\n",
    "left.set_ylabel(\"MSE\")\n",
    "right.bar(labels, [train_mse_2, test_mse_2], color=colors)\n",
    "right.set_title(\"Split 2\")\n",
    "plt.show();"
   ]
  },
  {
   "cell_type": "markdown",
   "metadata": {},
   "source": [
    "Both of the models shown above are using the same `X` and `y` and the same ratio of train to test, but one seems to indicate that the train score is much better than the test score, and the other seems to indicate that the test score is much better than the train score.\n",
    "\n",
    "Which one is the \"real\" result? And how do you know, if you only perform a single split, whether it's going to resemble the model on the left or the model on the right?\n",
    "\n",
    "Unfortunately with a standard train-test split process, it's impossible to know. Essentially you are collecting a single point statistic and you might be \"unlucky\" in how the numbers happen to fall."
   ]
  },
  {
   "cell_type": "markdown",
   "metadata": {},
   "source": [
    "## K-Fold Cross-Validation\n",
    "\n",
    "K-fold cross validation expands on the idea of training and test splits by splitting the entire dataset into `K` equal sections of data. We'll then iteratively train `K` linear regression models on the data, with each model using a different section of data as the test set, and all other sections combined as the training set.\n",
    "\n",
    "We can then average the individual results from each of these linear models to get a cross-validation MSE. This will be closer to the model's \"actual\" MSE, since results that are higher than average will cancel out the results that are lower than average.\n",
    "\n",
    "The diagram below gives an example of what cross-validation with `K = 10` might look like:"
   ]
  },
  {
   "cell_type": "markdown",
   "metadata": {},
   "source": [
    "<img src='https://curriculum-content.s3.amazonaws.com/data-science/images/new_cross-val-graphic.png' width=\"800\">"
   ]
  },
  {
   "cell_type": "markdown",
   "metadata": {},
   "source": [
    "### Cross-Validation in Scikit-Learn\n",
    "\n",
    "There are multiple ways to perform cross-validation with scikit-learn. You can read more extensive documentation [here](https://scikit-learn.org/stable/modules/cross_validation.html).\n",
    "\n",
    "#### `cross_val_score`\n",
    "\n",
    "If you are mainly just interested in the score on the validation (test) data, there is a function called `cross_val_score` ([documentation here](https://scikit-learn.org/stable/modules/generated/sklearn.model_selection.cross_val_score.html)). This takes in the model and the data, and returns the validation score for each split:"
   ]
  },
  {
   "cell_type": "code",
   "execution_count": 2,
   "metadata": {},
   "outputs": [
    {
     "data": {
      "text/plain": [
       "array([ 0.4918456 ,  0.35769361,  0.74442295,  0.68913303, -0.65804595])"
      ]
     },
     "execution_count": 2,
     "metadata": {},
     "output_type": "execute_result"
    }
   ],
   "source": [
    "from sklearn.model_selection import cross_val_score\n",
    "\n",
    "cross_val_score(linreg, X, y)"
   ]
  },
  {
   "cell_type": "markdown",
   "metadata": {},
   "source": [
    "By default there will be 5 splits and the score returned will be the result of the `.score()` method for the model. In the case shown here it's a `LinearRegression` ([documentation here](https://scikit-learn.org/stable/modules/generated/sklearn.linear_model.LinearRegression.html)) which means it returns the coefficient of determination ($R^2$).\n",
    "\n",
    "If we wanted 10 splits rather than 5, we could use the `cv` argument:"
   ]
  },
  {
   "cell_type": "code",
   "execution_count": 3,
   "metadata": {},
   "outputs": [
    {
     "data": {
      "text/plain": [
       "array([ 0.54461117,  0.49833098,  0.10383265,  0.65045556,  0.6306485 ,\n",
       "        0.83816174,  0.70048053,  0.67553093, -0.66050541, -0.09016385])"
      ]
     },
     "execution_count": 3,
     "metadata": {},
     "output_type": "execute_result"
    }
   ],
   "source": [
    "cross_val_score(linreg, X, y, cv=10)"
   ]
  },
  {
   "cell_type": "markdown",
   "metadata": {},
   "source": [
    "And if we wanted to use MSE instead of R-Squared, we could use the `scoring` argument:"
   ]
  },
  {
   "cell_type": "code",
   "execution_count": 4,
   "metadata": {},
   "outputs": [
    {
     "data": {
      "text/plain": [
       "array([-17.17351787, -22.56069047,  -8.60892235, -15.11906997,\n",
       "       -59.57600269])"
      ]
     },
     "execution_count": 4,
     "metadata": {},
     "output_type": "execute_result"
    }
   ],
   "source": [
    "cross_val_score(linreg, X, y, scoring=\"neg_mean_squared_error\")"
   ]
  },
  {
   "cell_type": "markdown",
   "metadata": {},
   "source": [
    "Why are the scores negative? Because conventionally in scikit-learn you want a larger score to be better. So for an error-based metric like MSE, the built-in scoring option uses _negative_ MSE.\n",
    "\n",
    "If you want to use a custom metric you can use `make_scorer`. Here it is demonstrated with `mean_squared_error` (imported previously from scikit-learn) but you could also write your own function:"
   ]
  },
  {
   "cell_type": "code",
   "execution_count": 4,
   "metadata": {},
   "outputs": [
    {
     "data": {
      "text/plain": [
       "array([17.17351787, 22.56069047,  8.60892235, 15.11906997, 59.57600269])"
      ]
     },
     "execution_count": 4,
     "metadata": {},
     "output_type": "execute_result"
    }
   ],
   "source": [
    "from sklearn.metrics import make_scorer\n",
    "\n",
    "cross_val_score(linreg, X, y, scoring=make_scorer(mean_squared_error))"
   ]
  },
  {
   "cell_type": "markdown",
   "metadata": {},
   "source": [
    "#### `cross_validate`\n",
    "\n",
    "If you want more information from the scoring process and not just the validation scores for a single metric, there is another function from scikit-learn called `cross_validate` ([documentation here](https://scikit-learn.org/stable/modules/generated/sklearn.model_selection.cross_validate.html)).\n",
    "\n",
    "`cross_validate` can be used to get the same information as `cross_val_score`:"
   ]
  },
  {
   "cell_type": "code",
   "execution_count": 5,
   "metadata": {},
   "outputs": [
    {
     "data": {
      "text/plain": [
       "array([ 0.4918456 ,  0.35769361,  0.74442295,  0.68913303, -0.65804595])"
      ]
     },
     "execution_count": 5,
     "metadata": {},
     "output_type": "execute_result"
    }
   ],
   "source": [
    "from sklearn.model_selection import cross_validate\n",
    "\n",
    "cross_validate(linreg, X, y)[\"test_score\"]"
   ]
  },
  {
   "cell_type": "markdown",
   "metadata": {},
   "source": [
    "But it also automatically provides information about timing:"
   ]
  },
  {
   "cell_type": "code",
   "execution_count": 6,
   "metadata": {},
   "outputs": [
    {
     "data": {
      "text/plain": [
       "{'fit_time': array([0.00397897, 0.00574803, 0.00356889, 0.01466894, 0.01584888]),\n",
       " 'score_time': array([0.00237513, 0.00220108, 0.01566219, 0.00786018, 0.01533484]),\n",
       " 'test_score': array([ 0.4918456 ,  0.35769361,  0.74442295,  0.68913303, -0.65804595])}"
      ]
     },
     "execution_count": 6,
     "metadata": {},
     "output_type": "execute_result"
    }
   ],
   "source": [
    "cross_validate(linreg, X, y)"
   ]
  },
  {
   "cell_type": "markdown",
   "metadata": {},
   "source": [
    "Just like with `cross_val_score` you can use the `cv` argument to change the number of splits:"
   ]
  },
  {
   "cell_type": "code",
   "execution_count": 7,
   "metadata": {},
   "outputs": [
    {
     "data": {
      "text/plain": [
       "{'fit_time': array([0.00485492, 0.00361705, 0.00757718, 0.00297379, 0.0316627 ,\n",
       "        0.00729108, 0.00427508, 0.00267291, 0.00246882, 0.00219488]),\n",
       " 'score_time': array([0.00316   , 0.00358486, 0.00305581, 0.02390313, 0.00870299,\n",
       "        0.00738311, 0.00220585, 0.00220513, 0.00163507, 0.00164318]),\n",
       " 'test_score': array([ 0.54461117,  0.49833098,  0.10383265,  0.65045556,  0.6306485 ,\n",
       "         0.83816174,  0.70048053,  0.67553093, -0.66050541, -0.09016385])}"
      ]
     },
     "execution_count": 7,
     "metadata": {},
     "output_type": "execute_result"
    }
   ],
   "source": [
    "cross_validate(linreg, X, y, cv=10)"
   ]
  },
  {
   "cell_type": "markdown",
   "metadata": {},
   "source": [
    "If you want scores for multiple different metrics at once (e.g. R-Squared and negative MSE), that would look like this:"
   ]
  },
  {
   "cell_type": "code",
   "execution_count": 8,
   "metadata": {},
   "outputs": [
    {
     "data": {
      "text/plain": [
       "{'fit_time': array([0.00593114, 0.00630903, 0.00566602, 0.00398469, 0.00329208]),\n",
       " 'score_time': array([0.00414968, 0.12329507, 0.003896  , 0.00365019, 0.00466275]),\n",
       " 'test_r2': array([ 0.4918456 ,  0.35769361,  0.74442295,  0.68913303, -0.65804595]),\n",
       " 'test_neg_mean_squared_error': array([-17.17351787, -22.56069047,  -8.60892235, -15.11906997,\n",
       "        -59.57600269])}"
      ]
     },
     "execution_count": 8,
     "metadata": {},
     "output_type": "execute_result"
    }
   ],
   "source": [
    "cross_validate(linreg, X, y, scoring=[\"r2\", \"neg_mean_squared_error\"])"
   ]
  },
  {
   "cell_type": "markdown",
   "metadata": {},
   "source": [
    "And if you want to compare the train vs. test scores (e.g. to look for overfitting), that would look like this:"
   ]
  },
  {
   "cell_type": "code",
   "execution_count": 9,
   "metadata": {},
   "outputs": [
    {
     "data": {
      "text/plain": [
       "{'fit_time': array([0.00376129, 0.00392413, 0.004843  , 0.003757  , 0.002666  ]),\n",
       " 'score_time': array([0.00243187, 0.00219727, 0.00322604, 0.00340199, 0.00188994]),\n",
       " 'test_score': array([ 0.4918456 ,  0.35769361,  0.74442295,  0.68913303, -0.65804595]),\n",
       " 'train_score': array([0.694036  , 0.7203816 , 0.69611334, 0.7014972 , 0.76292441])}"
      ]
     },
     "execution_count": 9,
     "metadata": {},
     "output_type": "execute_result"
    }
   ],
   "source": [
    "cross_validate(linreg, X, y, return_train_score=True)"
   ]
  },
  {
   "cell_type": "markdown",
   "metadata": {},
   "source": [
    "### Reporting Cross-Validation Scores\n",
    "\n",
    "Often your stakeholders will want a single metric or visualization that represents model performance, not a list of scores like cross-validation produces.\n",
    "\n",
    "One straightforward way to achieve this is to take the average:"
   ]
  },
  {
   "cell_type": "code",
   "execution_count": 10,
   "metadata": {},
   "outputs": [
    {
     "data": {
      "image/png": "[encoded data removed]",
      "text/plain": [
       "<Figure size 640x480 with 1 Axes>"
      ]
     },
     "metadata": {},
     "output_type": "display_data"
    }
   ],
   "source": [
    "cross_val_results = cross_validate(linreg, X, y, scoring=\"neg_mean_squared_error\", return_train_score=True)\n",
    "# Negative signs in front to convert back to MSE from -MSE\n",
    "train_avg = -cross_val_results[\"train_score\"].mean()\n",
    "test_avg = -cross_val_results[\"test_score\"].mean()\n",
    "\n",
    "fig, ax = plt.subplots()\n",
    "ax.bar(labels, [train_avg, test_avg], color=colors)\n",
    "ax.set_ylabel(\"MSE\")\n",
    "fig.suptitle(\"Average Cross-Validation Scores\");"
   ]
  },
  {
   "cell_type": "markdown",
   "metadata": {},
   "source": [
    "Another way, if you have enough folds to make it worthwhile, is to show the distribution of the train vs. test scores using a histogram or a box plot. *N.B.*: The *x*-axes are different scales, but the focus is on the different shapes of the respective distributions."
   ]
  },
  {
   "cell_type": "code",
   "execution_count": 11,
   "metadata": {},
   "outputs": [
    {
     "data": {
      "image/png": "[encoded data removed]",
      "text/plain": [
       "<Figure size 1000x500 with 2 Axes>"
      ]
     },
     "metadata": {},
     "output_type": "display_data"
    }
   ],
   "source": [
    "cross_val_results = cross_validate(linreg, X, y, cv=100, scoring=\"neg_mean_squared_error\", return_train_score=True)\n",
    "train_scores = -cross_val_results[\"train_score\"]\n",
    "test_scores = -cross_val_results[\"test_score\"]\n",
    "\n",
    "fig, (left, right) = plt.subplots(ncols=2, figsize=(10,5), sharey=True)\n",
    "bins=25\n",
    "left.hist(train_scores, label=labels[0], bins=bins, color=colors[0])\n",
    "left.set_ylabel(\"Count\")\n",
    "left.set_xlabel(\"MSE\")\n",
    "right.hist(test_scores, label=labels[1], bins=bins, color=colors[1])\n",
    "right.set_xlabel(\"MSE\")\n",
    "fig.suptitle(\"Cross-Validation Score Distribution\")\n",
    "fig.legend();"
   ]
  },
  {
   "cell_type": "markdown",
   "metadata": {},
   "source": [
    "## Comparing and Contrasting Train-Test Split and Cross-Validation\n",
    "\n",
    "As noted previously, cross-validation is a more sophisticated approach than train-test split because it produces multiple metric estimates rather than a single estimate. You can start to get a sense of the _variance_ in the metrics from cross-validation in a way that you can't from a train-test split. So cross-validation is generally seen as a more **reliable** validation strategy than train-test split.\n",
    "\n",
    "On the other hand, there are some downsides to cross-validation, particularly in scikit-learn.\n",
    "\n",
    "First, cross-validation **does not shuffle** the data before splitting it into folds. This might mean that there are some aspects of the splits that are not representative of what true training data vs. unseen data would look like. This behavior can be modified by writing custom cross-validation code that builds on top of scikit-learn classes like `KFold` ([documentation here](https://scikit-learn.org/stable/modules/generated/sklearn.model_selection.KFold.html)).\n",
    "\n",
    "Second, cross-validation is **more computationally expensive**, because it is fitting many models rather than fitting a single model and scoring it on multiple datasets. For linear regression this tends not to be a significant issue, but for more complex models (e.g. neural networks) we conventionally don't use cross-validation because it would take so much time and computational resources.\n",
    "\n",
    "Finally, the scikit-learn implementation of cross-validation makes it more prone to **data leakage**. Because the `cross_val_score` or `cross_validate` functions take in the whole dataset _and_ the model (vs. `train_test_split` which just splits the data), you typically have to preprocess the data all together before passing it in. This can lead to overly optimistic results compared to unseen data that must be processed separately. The solution to this is using a more-advanced modeling technique called a `Pipeline` ([documentation here](https://scikit-learn.org/stable/modules/generated/sklearn.pipeline.Pipeline.html)) that combines all of the preprocessing and modeling into a single estimator that can be passed in to the cross-validation function.\n",
    "\n",
    "Note that there is also not a strict choice between a train-test split and cross-validation. You might consider combining the approaches, e.g. performing a train-test split and then using cross-validation on just the training set. There are also additional variations on these validation techniques you might want to consider, such as [repeated](https://scikit-learn.org/stable/modules/generated/sklearn.model_selection.RepeatedKFold.html), [grouped](https://scikit-learn.org/stable/modules/generated/sklearn.model_selection.GroupKFold.html), and [leave one out](https://scikit-learn.org/stable/modules/generated/sklearn.model_selection.LeaveOneOut.html) validation."
   ]
  },
  {
   "cell_type": "markdown",
   "metadata": {},
   "source": [
    "## Summary \n",
    "\n",
    "Well done! In this lesson you learned about the concept of cross-validation and how cross-validation can overcome the limitations of train-test split. You also saw how to use cross-validation with scikit-learn. In the next lesson, you will utilize cross-validation on the Ames Housing data. "
   ]
  }
 ],
 "metadata": {
  "kernelspec": {
   "display_name": "Python 3 (ipykernel)",
   "language": "python",
   "name": "python3"
  },
  "language_info": {
   "codemirror_mode": {
    "name": "ipython",
    "version": 3
   },
   "file_extension": ".py",
   "mimetype": "text/x-python",
   "name": "python",
   "nbconvert_exporter": "python",
   "pygments_lexer": "ipython3",
   "version": "3.12.2"
  }
 },
 "nbformat": 4,
 "nbformat_minor": 4
}
